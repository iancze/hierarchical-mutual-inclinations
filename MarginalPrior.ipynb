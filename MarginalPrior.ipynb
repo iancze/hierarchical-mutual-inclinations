{
 "cells": [
  {
   "cell_type": "markdown",
   "metadata": {},
   "source": [
    "*In the [MutualInclinations](https://github.com/iancze/hierarchical-mutual-inclinations/blob/master/MutualInclinations.ipynb) notebook, we built a hierarchical Bayesian model to infer the distribution of mutual inclinations using a sample of circumbinary disks. At one point, we mentioned that instead of sampling in the azimuthal angle $\\phi$, we could actually analytically marginalize it out of our prior. This notebook details the math of the marginalization, setting this up in PyMC3, and sampling it.*\n"
   ]
  },
  {
   "cell_type": "markdown",
   "metadata": {},
   "source": [
    "Ok, now that we've defined $\\theta$ and $\\phi$ in the disk frame and specified how to convert these back to the observer frame, let's get back to the hierarchical model. A mutual inclination prior $p(\\theta)$ specifies the angle between the disk and binary unit angular momentum vectors, but not the azimuthal orientation of them ($\\phi$). So, given some mutual inclination $\\theta$, the prior on the position of the binary unit vector on the unit sphere looks like a ring centered on the disk unit vector. This means that in the frame of the disk, the prior on the binary unit vector location is separable, \n",
    "\n",
    "$$\n",
    "p(\\theta, \\phi) = p(\\theta) p(\\phi)\n",
    "$$\n",
    " \n",
    "where $p(\\phi)$ is uniform from $[0, 2\\pi]$. \n",
    "\n",
    "At any point along the ring $\\phi | \\theta$ we can use the relationship $i_\\star = \\cos^{-1} Z$ to calculate $i_\\star$. Writing this all out, we have a functional relationship\n",
    "\n",
    "$$\n",
    "\\cos i_\\star = f_\\star(\\cos i_\\mathrm{disk}, \\theta, \\phi) =  -\\sqrt{1 - \\cos^2 i_\\mathrm{disk}} \\sin \\theta \\sin \\phi + \\cos i_\\mathrm{disk} \\cos \\theta\n",
    "$$\n",
    "\n",
    "Framing this differently, we can say that if we know $i_\\mathrm{disk}$, $\\theta$, and $\\phi$, we essentially have a $\\delta$-function prior on $\\cos i_\\star$\n",
    "\n",
    "$$\n",
    "p(\\cos i_\\star | \\cos i_\\mathrm{disk}, \\theta, \\phi) = \\delta(\\cos i_\\star - f_\\star(\\cos i_\\mathrm{disk}, \\theta, \\phi))\n",
    "$$\n",
    "\n",
    "As we mentioned, because we don't have any constraint on $\\Delta \\Omega$, we don't have any constraint on $\\phi$ either (note that $\\Delta \\Omega \\ne \\phi$, but these quantites are related through the rotation matrices in a one-to-one manner once $\\cos i_\\mathrm{disk}$, $\\theta$ and $\\cos i_\\star$ are specified). \n",
    "\n"
   ]
  },
  {
   "cell_type": "markdown",
   "metadata": {},
   "source": [
    "My mother told me never to sample tomorrow what I could analytically marginalize today (or was it never put off until tomorrow what I can do today?). So, we'd like to rearrange the math a little so we can derive a prior on $\\cos i_\\star$ that has been marginalized over our ignorance on $\\phi$.\n",
    "\n",
    "We'll start by writing the joint distribution \n",
    "\n",
    "$$\n",
    "p(\\cos i_\\star, \\phi | \\cos i_\\mathrm{disk}, \\theta) =  p(\\cos i_\\star | \\cos i_\\mathrm{disk}, \\theta, \\phi) p(\\phi)\n",
    "$$\n",
    "\n",
    "$$\n",
    "p(\\cos i_\\star, \\phi | \\cos i_\\mathrm{disk}, \\theta) = \\delta(\\cos i_\\star - f_\\star(\\cos i_\\mathrm{disk}, \\theta, \\phi))  p(\\phi)\n",
    "$$\n",
    "\n",
    "To derive the marginal distribution we'll integrate over $\\phi$,\n",
    "\n",
    "$$\n",
    "p(\\cos i_\\star | \\cos i_\\mathrm{disk}, \\theta)  = \\int_0^{2\\pi} p(\\cos i_\\star, \\phi | \\cos i_\\mathrm{disk}, \\theta) \\, \\mathrm{d}\\phi\n",
    "$$\n",
    "\n",
    "\n",
    "$$\n",
    "p(\\cos i_\\star | \\cos i_\\mathrm{disk}, \\theta)  = \\int_0^{2\\pi} \\delta(\\cos i_\\star - f_\\star(\\cos i_\\mathrm{disk}, \\theta, \\phi))  \\, p(\\phi) \\, \\mathrm{d}\\phi\n",
    "$$"
   ]
  },
  {
   "cell_type": "markdown",
   "metadata": {},
   "source": [
    "Let\n",
    "\n",
    "$$\n",
    "g(\\phi) = \\cos i_\\star - f_\\star(\\cos i_\\mathrm{disk}, \\theta, \\phi)\n",
    "$$\n",
    "\n",
    "$$\n",
    "g(\\phi) = \\cos i_\\star + \\sqrt{1 - \\cos^2 i_\\mathrm{disk}} \\sin \\theta \\sin \\phi - \\cos i_\\mathrm{disk} \\cos \\theta\n",
    "$$\n",
    "\n",
    "\n",
    "$$\n",
    "p(\\cos i_\\star | \\cos i_\\mathrm{disk}, \\theta)  = \\frac{1}{2\\pi} \\int_0^{2\\pi} \\delta(g(\\phi)) \\, \\mathrm{d}\\phi\n",
    "$$\n",
    "\n",
    "\n",
    "To evaluate this integral, we'll use a neat trick of $\\delta$ function composition to rewrite the argument into something more friendly to integrate. The $\\delta$ function composition rule states\n",
    "\n",
    "$$\n",
    "\\delta(g(\\phi)) = \\sum_i \\frac{\\delta(\\phi - \\phi_i)}{|g^\\prime (\\phi_i)|}\n",
    "$$\n",
    "\n",
    "where $\\phi_i$ are the roots of the equation. This part makes sense if you think about $\\delta(g(\\phi))$ as having a $\\delta$ function pop up everywhere $g(\\phi) = 0$ (i.e., the roots of the equation). \n",
    "\n",
    "The denominator of this equation, the slope of $g(\\phi)$ evaluated at those roots, comes about from the more familiar $\\delta$ function scaling relation, \n",
    "\n",
    "$$\n",
    "\\delta(\\alpha \\phi) = \\frac{\\delta(\\phi)}{|\\alpha|}\n",
    "$$\n",
    "\n",
    "Basically, the $\\delta$ functions will be wider in regions where $g(\\phi)$ crosses $g = 0$ slowly and narrower in regions where $g(\\phi)$ crosses $g = 0$ in a hurry. \n",
    "\n",
    "Thinking back to our original diagram (figure forthcoming), where we are tracing a ring on the surface of a sphere, we can make our lives simpler by reconsidering the limits of integration to cover only one side of the circle. Since our rotation convention has $\\phi = 0$ starting at the 9 o'clock position, and we want to integrate from top to bottom, this means from $-\\pi/2$ to $\\pi/2$.\n",
    "\n",
    "$$\n",
    "p(\\cos i_\\star | \\cos i_\\mathrm{disk}, \\theta)  = \\frac{1}{2\\pi} \\int_0^{2\\pi} \\delta(g(\\phi)) \\, \\mathrm{d}\\phi = \\frac{1}{\\pi} \\int_{-\\pi/2}^{\\pi/2} \\delta(g(\\phi)) \\, \\mathrm{d}\\phi\n",
    "$$\n",
    "\n",
    "The nice part about this change is that there is only one root in this domain, meaning that given $\\cos i_\\star$, $\\cos i_\\mathrm{disk}$, and $\\theta$, there is exactly one $\\phi$ in this range (the other is on the other half of the circle). Solving $g(\\phi) = 0$ for the root, we have\n",
    "\n",
    "$$\n",
    "\\sin \\phi_0 = \\frac{\\cos i_\\mathrm{disk} \\cos \\theta - \\cos i_\\star}{\\sqrt{1 - \\cos^2 i_\\mathrm{disk}} \\sin \\theta}\n",
    "$$\n",
    "\n",
    "$$\n",
    "\\phi_0 = \\sin^{-1} \\left [  \\frac{\\cos i_\\mathrm{disk} \\cos \\theta - \\cos i_\\star}{\\sqrt{1 - \\cos^2 i_\\mathrm{disk}} \\sin \\theta} \\right ]\n",
    "$$\n",
    "\n",
    "\n",
    "The derivative of $g(\\phi)$ is\n",
    "\n",
    "$$\n",
    "\\frac{\\mathrm{d} g}{\\mathrm{d}\\phi} = \\sqrt{1 - \\cos^2 i_\\mathrm{disk}} \\sin \\theta \\cos \\phi\n",
    "$$\n",
    "\n",
    "Evaluating the derivative at the root, we have\n",
    "\n",
    "$$\n",
    "\\left | \\frac{\\mathrm{d} g}{\\mathrm{d}\\phi} (\\phi_i) \\right | = \\left | \\sqrt{1 - \\cos^2 i_\\mathrm{disk}} \\sin \\theta \\sqrt{1 - \\left ( \\frac{\\cos i_\\mathrm{disk} \\cos \\theta - \\cos i_\\star}{\\sqrt{1 - \\cos^2 i_\\mathrm{disk}} \\sin \\theta} \\right)^2} \\; \\right |\n",
    "$$\n",
    "\n",
    "Using these relationships, we have rewritten\n",
    "\n",
    "$$\n",
    "\\frac{1}{\\pi} \\int_{-\\pi/2}^{\\pi/2} \\delta(g(\\phi)) \\, \\mathrm{d}\\phi = \\frac{1}{\\pi} \\left ( \\left | \\frac{\\mathrm{d} g}{\\mathrm{d}\\phi} (\\phi_i) \\right | \\right )^{-1} \\int_{-\\pi/2}^{\\pi/2} \\delta(\\phi - \\phi_0) \\, \\mathrm{d}\\phi\n",
    "$$\n",
    "\n",
    "$$\n",
    "\\frac{1}{\\pi} \\int_{-\\pi/2}^{\\pi/2} \\delta(g(\\phi)) \\, \\mathrm{d}\\phi = \\frac{1}{\\pi} \\left ( \\left | \\frac{\\mathrm{d} g}{\\mathrm{d}\\phi} (\\phi_i) \\right | \\right )^{-1} \n",
    "$$\n",
    "\n",
    "$$\n",
    "p(\\cos i_\\star | \\cos i_\\mathrm{disk}, \\theta) = \\frac{1}{\\pi} \\left | \\sqrt{1 - \\cos^2 i_\\mathrm{disk}} \\sin \\theta \\sqrt{1 - \\left ( \\frac{\\cos i_\\mathrm{disk} \\cos \\theta - \\cos i_\\star}{\\sqrt{1 - \\cos^2 i_\\mathrm{disk}} \\sin \\theta} \\right)^2} \\; \\right |^{-1} \n",
    "$$\n",
    "\n",
    "$$\n",
    "p(\\cos i_\\star | \\cos i_\\mathrm{disk}, \\theta) = \\frac{1}{\\pi} \\left | \\sin i_\\mathrm{disk} \\sin \\theta \\sqrt{1 - \\left ( \\frac{\\cos i_\\mathrm{disk} \\cos \\theta - \\cos i_\\star}{\\sin i_\\mathrm{disk} \\sin \\theta} \\right)^2} \\; \\right |^{-1} \n",
    "$$\n",
    "\n",
    "\n",
    "This doesn't look particularly pretty, but we can verify that we have this prior correct by generating random samples from $p(\\phi | \\cos i_\\mathrm{disk}, \\theta)$, calculating $\\cos i_\\star$ from them and then plotting the $p(\\cos i_\\star | \\cos i_\\mathrm{disk}, \\theta)$ histogram, i.e., the marginal prior."
   ]
  },
  {
   "cell_type": "markdown",
   "metadata": {},
   "source": [
    "## $u$-substitution\n",
    "\n",
    "This can also be calculated (slightly more easily) with $u$ substitution. We need to calculate the integral\n",
    "\n",
    "$$\n",
    "\\frac{1}{\\pi} \\int_{-\\pi/2}^{\\pi/2} \\delta(g(\\phi))\\, \\mathrm{d}\\phi\n",
    "$$\n",
    "\n",
    "Let $u = \\sin \\theta$, then $\\mathrm{d}u = \\cos \\phi \\, \\mathrm{d} \\phi$. So we have\n",
    "\n",
    "$$\n",
    "\\mathrm{d}\\phi = \\frac{\\mathrm{d}u}{\\cos \\phi} = \\frac{\\mathrm{d}u}{\\sqrt{1 - u^2}}\n",
    "$$\n",
    "\n",
    "$$\n",
    "g(u) = \\cos i_\\star + \\sin i_\\mathrm{disk} \\sin \\theta \\, u - \\cos i_\\mathrm{disk} \\cos \\theta\n",
    "$$\n",
    "\n",
    "$$\n",
    "g^\\prime(u) = \\sin i_\\mathrm{disk} \\sin \\theta\n",
    "$$\n",
    "\n",
    "Solving for the $g(u) = 0$ root,\n",
    "\n",
    "$$\n",
    "u_0 = \\frac{\\cos i_\\mathrm{disk} \\cos \\theta - \\cos i_\\star}{\\sin i_\\mathrm{disk} \\sin \\theta}\n",
    "$$\n",
    "\n",
    "and using the composition rule,\n",
    "\n",
    "$$\n",
    "\\delta(g(u)) = \\frac{\\delta(u - u_0)}{|\\sin i_\\mathrm{disk} \\sin \\theta | }\n",
    "$$\n",
    "\n",
    "the integral becomes\n",
    "\n",
    "$$\n",
    "\\frac{1}{\\pi} \\int_{-\\pi/2}^{\\pi/2} \\delta(g(\\phi))\\, \\mathrm{d}\\phi = \\frac{1}{\\pi} \\frac{1}{|\\sin i_\\mathrm{disk} \\sin \\theta |} \\int_{-1}^1 \\frac{\\delta(u - u_0)}{\\sqrt{1 - u^2}}\\, \\mathrm{d}u\n",
    "$$\n",
    "\n",
    "Now this is a $\\delta$ function integral that is a bit more easier to comprehend. It just picks up the value of the function $1 / \\sqrt{1 - u^2}$ where $u = u_0$, so the final solution is \n",
    "\n",
    "$$\n",
    "\\frac{1}{\\pi} \\frac{1}{|\\sin i_\\mathrm{disk} \\sin \\theta|} \\frac{1}{\\sqrt{1 - u_0^2}}\n",
    "$$\n",
    "\n",
    "which is the same thing as before."
   ]
  },
  {
   "cell_type": "markdown",
   "metadata": {},
   "source": [
    "Now that we've specified this prior, we can write the full posterior with the rest of the terms.\n",
    "\n",
    "$$\n",
    "p_k(\\cos i_\\mathrm{disk}, \\cos i_\\star| \\cos \\hat{i}_\\mathrm{disk}, \\cos \\hat{i}_\\star, \\alpha, \\beta) = {\\cal N}(\\cos \\hat{i}_\\mathrm{disk}, \\cos \\hat{i}_\\star | \\cos i_\\mathrm{disk}, \\cos i_\\star, \\boldsymbol{\\Sigma}) p(\\cos i_\\star | \\cos i_\\mathrm{disk}, \\theta) p(\\cos i_\\mathrm{disk}) p(\\theta |, \\alpha, \\beta)\n",
    "$$\n",
    "\n",
    "This posterior looks a little bit different than before. For this single disk $k$, it looks quite simple, since it only has two parameters, $\\cos i_\\mathrm{disk}$ and $\\cos i_\\star$. Looking more closely, we see that this whole posterior is conditional on the prior for the mutual inclinations, which we've specified with a $\\beta$ distribution $p_\\beta$, parameterized by $\\alpha$ and $\\beta$. With the full sample of disks, we will seek to infer $\\alpha$ and $\\beta$ as well. This is the hierarchical nature of the problem."
   ]
  },
  {
   "cell_type": "markdown",
   "metadata": {},
   "source": [
    "\n",
    "Just trying to experiment implementing the marginal prior. It has the form\n",
    "\n",
    "$$\n",
    "p(\\cos i_\\star | \\cos i_\\mathrm{disk}, \\theta) = \\frac{1}{\\pi} \\left | \\sin i_\\mathrm{disk} \\sin \\theta \\sqrt{1 - \\left ( \\frac{\\cos i_\\mathrm{disk} \\cos \\theta - \\cos i_\\star}{\\sin i_\\mathrm{disk} \\sin \\theta} \\right)^2} \\; \\right |^{-1} \n",
    "$$\n",
    "\n",
    "Since we know that $i_\\mathrm{disk}$ and $\\theta$ will always be in the range $[0, \\pi]$, the absolute value bars are not necessary.\n",
    "\n",
    "\n",
    "$$\n",
    "p(\\cos i_\\star | \\cos i_\\mathrm{disk}, \\theta) = \\frac{1}{\\pi} \\left ( \\sin i_\\mathrm{disk} \\sin \\theta \\sqrt{1 - \\left ( \\frac{\\cos i_\\mathrm{disk} \\cos \\theta - \\cos i_\\star}{\\sin i_\\mathrm{disk} \\sin \\theta} \\right)^2} \\; \\right )^{-1} \n",
    "$$\n",
    "\n",
    "and (dropping constants)\n",
    "\n",
    "$$\n",
    "\\ln p(\\cos i_\\star | \\cos i_\\mathrm{disk}, \\theta) = - \\ln \\sin i_\\mathrm{disk} - \\ln \\sin(\\theta) - \\frac{1}{2} \\ln \\left [ 1 - \\left ( \\frac{\\cos i_\\mathrm{disk} \\cos \\theta - \\cos i_\\star}{\\sin i_\\mathrm{disk} \\sin \\theta} \\right )^2\\right]\n",
    "$$\n",
    "\n",
    "\n",
    "We can calculate the domain of this distribution by realizing \n",
    "\n",
    "$$\n",
    "1 - \\left ( \\frac{\\cos i_\\mathrm{disk} \\cos \\theta - \\cos i_\\star}{\\sin i_\\mathrm{disk} \\sin \\theta} \\right )^2 > 0\n",
    "$$\n",
    "\n",
    "or \n",
    "\n",
    "$$\n",
    "-1 < \\left (\\frac{\\cos i_\\mathrm{disk} \\cos \\theta - \\cos i_\\star}{\\sin i_\\mathrm{disk} \\sin \\theta} \\right ) < 1\n",
    "$$\n",
    "\n",
    "or\n",
    "\n",
    "$$\n",
    "\\cos i_\\mathrm{disk} \\cos \\theta - \\sin i_\\mathrm{disk} \\sin \\theta < \\cos i_\\star < \\sin i_\\mathrm{disk} \\sin \\theta + \\cos i_\\mathrm{disk} \\cos \\theta\n",
    "$$"
   ]
  },
  {
   "cell_type": "markdown",
   "metadata": {},
   "source": [
    "Let's make these even more complicated by coming up with a transformation with a variable $y$ that goes from the range $[0, 1]$ always, and is scaled like $\\cos i_\\star$. Then, we use this marginal prior to evaluate on $\\cos i_\\star$.\n",
    "\n",
    "Intercept evaled at ($y = 0$)\n",
    "\n",
    "$$\n",
    "\\cos i_\\star = \\cos i_\\mathrm{disk} \\cos \\theta - \\sin i_\\mathrm{disk} \\sin \\theta\n",
    "$$\n",
    "\n",
    "Slope eval at ($y = 1$) divided by eval at ($y = 0$).\n",
    "\n",
    "$$\n",
    "m = \\frac{\\sin i_\\mathrm{disk} \\sin \\theta + \\cos i_\\mathrm{disk} \\cos \\theta}{\\cos i_\\mathrm{disk} \\cos \\theta - \\sin i_\\mathrm{disk} \\sin \\theta}\n",
    "$$\n",
    "\n",
    "So the relationship becomes \n",
    "\n",
    "$$\n",
    "\\cos i_\\star = \\cos i_\\mathrm{disk} \\cos \\theta - \\sin i_\\mathrm{disk} \\sin \\theta + \\left [ (\\sin i_\\mathrm{disk} \\sin \\theta + \\cos i_\\mathrm{disk} \\cos \\theta) - (\\cos i_\\mathrm{disk} \\cos \\theta - \\sin i_\\mathrm{disk} \\sin \\theta) \\right ] y\n",
    "$$\n",
    "\n",
    "Turns out this linear scaling doesn't work so great for the sampling. I'm not exactly sure why, but I have a feeling it has to do with the fact all of the probability is at the tails. This may still be true, but at least right now it seems like it's a fact that I'm evaluating `NaN`.\n",
    "\n",
    "We could try a different parameterization. "
   ]
  },
  {
   "cell_type": "code",
   "execution_count": 19,
   "metadata": {},
   "outputs": [],
   "source": [
    "# code here\n",
    "%matplotlib inline\n",
    "%config InlineBackend.figure_format = \"retina\"\n",
    "\n",
    "from matplotlib import rcParams\n",
    "rcParams[\"savefig.dpi\"] = 100\n",
    "rcParams[\"figure.dpi\"] = 100\n",
    "rcParams[\"font.size\"] = 20\n",
    "# disable tex formatting (for Linux)\n",
    "rcParams[\"text.usetex\"] = False\n",
    "import matplotlib.pyplot as plt\n",
    "\n",
    "import numpy as np\n",
    "import theano.tensor as tt\n",
    "import pymc3 as pm\n",
    "\n",
    "deg = np.pi/180.0"
   ]
  },
  {
   "cell_type": "code",
   "execution_count": 11,
   "metadata": {},
   "outputs": [],
   "source": [
    "def get_limits(cos_i_disk, theta):\n",
    "    '''\n",
    "    theta in radians\n",
    "    '''\n",
    "    sin_i_disk = np.sqrt(1 - cos_i_disk**2)\n",
    "\n",
    "    low = cos_i_disk * np.cos(theta) - sin_i_disk * np.sin(theta)\n",
    "    high = sin_i_disk * np.sin(theta) + cos_i_disk * np.cos(theta)\n",
    "    \n",
    "    return low, high\n",
    "\n",
    "def p_marg(cos_i_star, cos_i_disk, theta):\n",
    "    '''\n",
    "    theta in radians\n",
    "    '''\n",
    "    \n",
    "    sin_i_disk = np.sqrt(1 - cos_i_disk**2)\n",
    "        \n",
    "    return 1 / (np.pi * np.sqrt(1 - cos_i_disk**2) * np.sin(theta) * \\\n",
    "                np.sqrt(1 - ((cos_i_disk * np.cos(theta) - cos_i_star) / \\\n",
    "               (np.sqrt(1 - cos_i_disk**2) * np.sin(theta)))**2)) "
   ]
  },
  {
   "cell_type": "code",
   "execution_count": 18,
   "metadata": {},
   "outputs": [
    {
     "data": {
      "text/plain": [
       "<matplotlib.lines.Line2D at 0x7f7b1d1418d0>"
      ]
     },
     "execution_count": 18,
     "metadata": {},
     "output_type": "execute_result"
    },
    {
     "data": {
      "image/png": "[encoded data removed]",
      "text/plain": [
       "<Figure size 432x288 with 1 Axes>"
      ]
     },
     "metadata": {
      "image/png": {
       "height": 250,
       "width": 367
      },
      "needs_background": "light"
     },
     "output_type": "display_data"
    }
   ],
   "source": [
    "# plot the marginal prior for fixed value of cos_i_disk, for many values of theta\n",
    "\n",
    "cos_i_disk = np.cos(40.0 * deg)\n",
    "\n",
    "fig, ax = plt.subplots(nrows=1)\n",
    "ax.axvspan(cos_i_disk - 0.22, cos_i_disk + 0.02, color=\"0.7\")\n",
    "for theta in np.array([5.0, 10.0, 20.0, 30.0, 40.0]) * deg:\n",
    "    low, high = get_limits(cos_i_disk, theta)\n",
    "    cos_i_stars = np.linspace(low+0.1*deg, high - 0.1*deg, num=100)\n",
    "    p = p_marg(cos_i_stars, cos_i_disk, theta)\n",
    "    \n",
    "    ax.plot(cos_i_stars, p)\n",
    "ax.axvline(cos_i_disk, color=\"0.3\")"
   ]
  },
  {
   "cell_type": "code",
   "execution_count": 4,
   "metadata": {},
   "outputs": [],
   "source": [
    "# choose a cos i_disk, and theta value \n",
    "cos_i_disk = np.cos(40.0 * deg)\n",
    "theta = 5.0 * deg\n",
    "\n",
    "def lnp(cos_i_star): #, cos_i_disk, theta):\n",
    "    sin_i_disk = tt.sqrt(1 - cos_i_disk**2)\n",
    "\n",
    "    # limits on where function is defined\n",
    "    low = cos_i_disk - sin_i_disk * np.sin(theta)\n",
    "    high = sin_i_disk * np.sin(theta) + cos_i_disk * np.cos(theta)\n",
    "    \n",
    "    # specify the bounds via returning -inf\n",
    "    \n",
    "    return tt.switch(tt.and_(tt.lt(low, cos_i_star), tt.lt(cos_i_star, high)), -tt.log(sin_i_disk) - tt.log(tt.sin(theta)) - \\\n",
    "    0.5 * tt.log(1 - ((cos_i_disk * tt.cos(theta) - cos_i_star)/(sin_i_disk * tt.sin(theta)))**2), -1.0)"
   ]
  },
  {
   "cell_type": "code",
   "execution_count": 48,
   "metadata": {},
   "outputs": [
    {
     "name": "stdout",
     "output_type": "stream",
     "text": [
      "cos_i_star __str__ = 0.7660444431189781\n"
     ]
    }
   ],
   "source": [
    "# for now these are just fixed \n",
    "cos_i_disk = np.cos(40.0 * deg)\n",
    "theta = 5.0 * deg\n",
    "\n",
    "# low, high = get_limits(cos_i_disk, theta)\n",
    "\n",
    "with pm.Model() as model:\n",
    "\n",
    "    # Now, we will use cos_i_disk and theta to calculate the prior on cos_i_star\n",
    "#     sin_i_disk = tt.sqrt(1.0 - cos_i_disk**2)\n",
    "\n",
    "    # see https://discourse.pymc.io/t/first-attempt-at-a-hierarchical-model-with-custom-likelihood/1928\n",
    "    # for conditional prior help\n",
    "    # the domain of this dist is between \n",
    "#     def lnp(cos_i_star): \n",
    "#         return -tt.log(sin_i_disk) - tt.log(tt.sin(theta)) - \\\n",
    "#         0.5 * tt.log(1 - ((cos_i_disk * tt.cos(theta) - cos_i_star)/(sin_i_disk * tt.sin(theta)))**2)\n",
    "    \n",
    "    # the disk inclination is probably a good place to start\n",
    "    cos_i_star = pm.DensityDist(\"cos_i_star\", lnp, testval=cos_i_disk)\n",
    "    \n",
    "    p1 = tt.printing.Print('cos_i_star')(cos_i_star)"
   ]
  },
  {
   "cell_type": "markdown",
   "metadata": {},
   "source": [
    "$$\n",
    "\\cos i_\\star = \\cos i_\\mathrm{disk} - \\sin i_\\mathrm{disk} \\sin \\theta + \\left [ (\\sin i_\\mathrm{disk} \\sin \\theta + \\cos i_\\mathrm{disk} \\cos \\theta) - (\\cos i_\\mathrm{disk} - \\sin i_\\mathrm{disk} \\sin \\theta) \\right ] y\n",
    "$$"
   ]
  },
  {
   "cell_type": "markdown",
   "metadata": {},
   "source": [
    "$$\n",
    "\\ln p(\\cos i_\\star | \\cos i_\\mathrm{disk}, \\theta) = - \\ln \\sin i_\\mathrm{disk} - \\ln \\sin(\\theta) - \\frac{1}{2} \\ln \\left [ 1 - \\left ( \\frac{\\cos i_\\mathrm{disk} \\cos \\theta - \\cos i_\\star}{\\sin i_\\mathrm{disk} \\sin \\theta} \\right )^2\\right]\n",
    "$$"
   ]
  },
  {
   "cell_type": "code",
   "execution_count": null,
   "metadata": {},
   "outputs": [],
   "source": [
    "# instantiate a PyMC3 model class \n",
    "with pm.Model() as marginal_model:\n",
    "    \n",
    "    mu = pm.Uniform(\"mu\", lower=0.0, upper=1.0)\n",
    "    var = pm.Uniform(\"var\", lower=0.0, upper=(mu * (1 - mu)))\n",
    "    # convert these back to alpha and beta and put priors on the fact that \n",
    "    # alpha and beta should be greater than 1.0\n",
    "    \n",
    "    # intermediate mutual inclination variable\n",
    "    x = pm.Beta(\"x\", mu=mu, sd=tt.sqrt(var), shape=N_systems)    \n",
    "\n",
    "    # Convert from the intermediate variable to the actual mutual inclination angle we want\n",
    "    cos_theta = pm.Deterministic(\"cos_theta\", 1 - 2 * x)\n",
    "    \n",
    "    # Enforce the geometrical prior on i_disk, as before\n",
    "    # Testval tells the chain to start in the center of the posterior.\n",
    "    cos_i_disk = pm.Uniform(\"cosIdisk\", lower=-1.0, upper=1.0, shape=N_systems, \\\n",
    "                            testval=np.cos(sample[\"i_disk\"].data * deg)) \n",
    "    \n",
    "    \n",
    "    # Now, we will use cos_i_disk, theta, and phi to calculate cos_i_star\n",
    "    sin_i_disk = tt.sqrt(1.0 - cos_i_disk**2)\n",
    "    sin_theta = tt.sqrt(1.0 - cos_theta**2)\n",
    "\n",
    "    # intermediate stellar cos variable \n",
    "    y = pm.Uniform(\"y\", lower=0.0, upper=1.0, shape=N_systems)\n",
    "    \n",
    "    # transform to cos_i_star\n",
    "    cos_i_star = pm.Deterministic(\"cosIstar\", cos_i_disk - sin_i_disk * sin_theta + \\\n",
    "                                 ((sin_i_disk * sin_theta + cos_i_disk * cos_theta) - \\\n",
    "                                  (cos_i_disk - sin_i_disk * sin_theta)) * y)    \n",
    "    \n",
    "    # calculate the potential from the prior\n",
    "    pm.Potential(\"cos_i_prior\", -pm.math.log(sin_i_disk) - pm.math.log(sin_theta) - \\\n",
    "        0.5 * pm.math.log(1 - ((cos_i_disk * cos_theta - cos_i_star)/(sin_i_disk * sin_theta))**2))\n",
    "        \n",
    "        \n",
    "    # Finally, we define the likelihood by conditioning on the observations using a Normal\n",
    "    obs_disk = pm.Normal(\"obs_disk\", mu=cos_i_disk, sd=sd_disk, observed=np.cos(sample[\"i_disk\"].data * deg))\n",
    "    obs_star = pm.Normal(\"obs_star\", mu=cos_i_star, sd=sd_star, observed=np.cos(sample[\"i_star\"].data * deg))"
   ]
  },
  {
   "cell_type": "code",
   "execution_count": 9,
   "metadata": {},
   "outputs": [
    {
     "data": {
      "image/png": "[encoded data removed]",
      "text/plain": [
       "<Figure size 432x720 with 4 Axes>"
      ]
     },
     "metadata": {
      "image/png": {
       "height": 589,
       "width": 367
      },
      "needs_background": "light"
     },
     "output_type": "display_data"
    }
   ],
   "source": [
    "# choose a cos i_disk, and theta value \n",
    "cos_i_disk = np.cos(40.0 * deg)\n",
    "theta = 5.0 * deg\n",
    "\n",
    "phis = np.random.uniform(0, 2 * np.pi, size=100000)\n",
    "\n",
    "cos_i_stars = -np.sqrt(1 - cos_i_disk**2) * np.sin(theta) * np.sin(phis) + cos_i_disk * np.cos(theta)\n",
    "\n",
    "\n",
    "fig, ax = plt.subplots(nrows=4, figsize=(6, 10))\n",
    "\n",
    "# res = plt.hist(cos_i_stars, bins=40, density=True)\n",
    "# heights, bins, patches = res\n",
    "# ax[0].plot(bins[1:-1], p_marg(bins[1:-1], cos_i_disk, theta)) # it will blow up at the edges\n",
    "\n",
    "ax[0].hist(-np.sqrt(1 - cos_i_disk**2) * np.sin(5.0 * deg) * np.sin(phis) + \\\n",
    "           cos_i_disk * np.cos(5.0 * deg), bins=40, density=True)\n",
    "\n",
    "ax[1].hist(-np.sqrt(1 - cos_i_disk**2) * np.sin(10.0 * deg) * np.sin(phis) + \\\n",
    "           cos_i_disk * np.cos(10.0 * deg), bins=40, density=True)\n",
    "\n",
    "ax[2].hist(-np.sqrt(1 - cos_i_disk**2) * np.sin(20.0 * deg) * np.sin(phis) + \\\n",
    "           cos_i_disk * np.cos(20.0 * deg), bins=40, density=True)\n",
    "\n",
    "ax[3].hist(-np.sqrt(1 - cos_i_disk**2) * np.sin(30.0 * deg) * np.sin(phis) + \\\n",
    "           cos_i_disk * np.cos(30.0 * deg), bins=40, density=True)\n",
    "\n",
    "for a in ax:\n",
    "    a.axvline(cos_i_disk, color=\"0.3\")\n",
    "    a.set_xlabel(r\"$\\cos i_\\star$\");\n"
   ]
  },
  {
   "cell_type": "markdown",
   "metadata": {},
   "source": [
    "Notes on this are here: https://docs.pymc.io/Probability_Distributions.html"
   ]
  },
  {
   "cell_type": "code",
   "execution_count": null,
   "metadata": {},
   "outputs": [],
   "source": [
    "def logp(failure, value):\n",
    "    return (failure * log(λ) - λ * value).sum()\n",
    "\n",
    "exp_surv = pm.DensityDist('exp_surv', logp, observed={'failure':failure, 'value':t})"
   ]
  }
 ],
 "metadata": {
  "kernelspec": {
   "display_name": "Python 3",
   "language": "python",
   "name": "python3"
  },
  "language_info": {
   "codemirror_mode": {
    "name": "ipython",
    "version": 3
   },
   "file_extension": ".py",
   "mimetype": "text/x-python",
   "name": "python",
   "nbconvert_exporter": "python",
   "pygments_lexer": "ipython3",
   "version": "3.7.1"
  }
 },
 "nbformat": 4,
 "nbformat_minor": 2
}
