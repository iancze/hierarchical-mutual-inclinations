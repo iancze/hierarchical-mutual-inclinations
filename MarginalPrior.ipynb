{
 "cells": [
  {
   "cell_type": "markdown",
   "metadata": {},
   "source": [
    "*In the [MutualInclinations](https://github.com/iancze/hierarchical-mutual-inclinations/blob/master/MutualInclinations.ipynb) notebook, we built a hierarchical Bayesian model to infer the distribution of mutual inclinations using a sample of circumbinary disks. At one point, we mentioned that instead of sampling in the azimuthal angle $\\phi$, we could actually analytically marginalize it out of our prior. This notebook details the math of the marginalization, setting this up in PyMC3, and sampling it.*\n"
   ]
  },
  {
   "cell_type": "markdown",
   "metadata": {},
   "source": [
    "Ok, now that we've defined $\\theta$ and $\\phi$ in the disk frame and specified how to convert these back to the observer frame, let's get back to the hierarchical model. A mutual inclination prior $p(\\theta)$ specifies the angle between the disk and binary unit angular momentum vectors, but not the azimuthal orientation of them ($\\phi$). So, given some mutual inclination $\\theta$, the prior on the position of the binary unit vector on the unit sphere looks like a ring centered on the disk unit vector. This means that in the frame of the disk, the prior on the binary unit vector location is separable, \n",
    "\n",
    "$$\n",
    "p(\\theta, \\phi) = p(\\theta) p(\\phi)\n",
    "$$\n",
    " \n",
    "where $p(\\phi)$ is uniform from $[0, 2\\pi]$. \n",
    "\n",
    "At any point along the ring $\\phi | \\theta$ we can use the relationship $i_\\star = \\cos^{-1} Z$ to calculate $i_\\star$. Writing this all out, we have a functional relationship\n",
    "\n",
    "$$\n",
    "\\cos i_\\star = f_\\star(\\cos i_\\mathrm{disk}, \\theta, \\phi) =  -\\sqrt{1 - \\cos^2 i_\\mathrm{disk}} \\sin \\theta \\sin \\phi + \\cos i_\\mathrm{disk} \\cos \\theta\n",
    "$$\n",
    "\n",
    "Framing this differently, we can say that if we know $i_\\mathrm{disk}$, $\\theta$, and $\\phi$, we essentially have a $\\delta$-function prior on $\\cos i_\\star$\n",
    "\n",
    "$$\n",
    "p(\\cos i_\\star | \\cos i_\\mathrm{disk}, \\theta, \\phi) = \\delta(\\cos i_\\star - f_\\star(\\cos i_\\mathrm{disk}, \\theta, \\phi))\n",
    "$$\n",
    "\n",
    "As we mentioned, because we don't have any constraint on $\\Delta \\Omega$, we don't have any constraint on $\\phi$ either (note that $\\Delta \\Omega \\ne \\phi$, but these quantites are related through the rotation matrices in a one-to-one manner once $\\cos i_\\mathrm{disk}$, $\\theta$ and $\\cos i_\\star$ are specified). \n",
    "\n"
   ]
  },
  {
   "cell_type": "markdown",
   "metadata": {},
   "source": [
    "My mother told me never to sample tomorrow what I could analytically marginalize today (or was it never put off until tomorrow what I can do today?). So, we'd like to rearrange the math a little so we can derive a prior on $\\cos i_\\star$ that has been marginalized over our ignorance on $\\phi$.\n",
    "\n",
    "We'll start by writing the joint distribution \n",
    "\n",
    "$$\n",
    "p(\\cos i_\\star, \\phi | \\cos i_\\mathrm{disk}, \\theta) =  p(\\cos i_\\star | \\cos i_\\mathrm{disk}, \\theta, \\phi) p(\\phi)\n",
    "$$\n",
    "\n",
    "$$\n",
    "p(\\cos i_\\star, \\phi | \\cos i_\\mathrm{disk}, \\theta) = \\delta(\\cos i_\\star - f_\\star(\\cos i_\\mathrm{disk}, \\theta, \\phi))  p(\\phi)\n",
    "$$\n",
    "\n",
    "To derive the marginal distribution we'll integrate over $\\phi$,\n",
    "\n",
    "$$\n",
    "p(\\cos i_\\star | \\cos i_\\mathrm{disk}, \\theta)  = \\int_0^{2\\pi} p(\\cos i_\\star, \\phi | \\cos i_\\mathrm{disk}, \\theta) \\, \\mathrm{d}\\phi\n",
    "$$\n",
    "\n",
    "\n",
    "$$\n",
    "p(\\cos i_\\star | \\cos i_\\mathrm{disk}, \\theta)  = \\int_0^{2\\pi} \\delta(\\cos i_\\star - f_\\star(\\cos i_\\mathrm{disk}, \\theta, \\phi))  \\, p(\\phi) \\, \\mathrm{d}\\phi\n",
    "$$"
   ]
  },
  {
   "cell_type": "markdown",
   "metadata": {},
   "source": [
    "Let\n",
    "\n",
    "$$\n",
    "g(\\phi) = \\cos i_\\star - f_\\star(\\cos i_\\mathrm{disk}, \\theta, \\phi)\n",
    "$$\n",
    "\n",
    "$$\n",
    "g(\\phi) = \\cos i_\\star + \\sqrt{1 - \\cos^2 i_\\mathrm{disk}} \\sin \\theta \\sin \\phi - \\cos i_\\mathrm{disk} \\cos \\theta\n",
    "$$\n",
    "\n",
    "\n",
    "$$\n",
    "p(\\cos i_\\star | \\cos i_\\mathrm{disk}, \\theta)  = \\frac{1}{2\\pi} \\int_0^{2\\pi} \\delta(g(\\phi)) \\, \\mathrm{d}\\phi\n",
    "$$\n",
    "\n",
    "\n",
    "To evaluate this integral, we'll use a neat trick of $\\delta$ function composition to rewrite the argument into something more friendly to integrate. The $\\delta$ function composition rule states\n",
    "\n",
    "$$\n",
    "\\delta(g(\\phi)) = \\sum_i \\frac{\\delta(\\phi - \\phi_i)}{|g^\\prime (\\phi_i)|}\n",
    "$$\n",
    "\n",
    "where $\\phi_i$ are the roots of the equation. This part makes sense if you think about $\\delta(g(\\phi))$ as having a $\\delta$ function pop up everywhere $g(\\phi) = 0$ (i.e., the roots of the equation). \n",
    "\n",
    "The denominator of this equation, the slope of $g(\\phi)$ evaluated at those roots, comes about from the more familiar $\\delta$ function scaling relation, \n",
    "\n",
    "$$\n",
    "\\delta(\\alpha \\phi) = \\frac{\\delta(\\phi)}{|\\alpha|}\n",
    "$$\n",
    "\n",
    "Basically, the $\\delta$ functions will be wider in regions where $g(\\phi)$ crosses $g = 0$ slowly and narrower in regions where $g(\\phi)$ crosses $g = 0$ in a hurry. \n",
    "\n",
    "Thinking back to our original diagram (figure forthcoming), where we are tracing a ring on the surface of a sphere, we can make our lives simpler by reconsidering the limits of integration to cover only one side of the circle. Since our rotation convention has $\\phi = 0$ starting at the 9 o'clock position, and we want to integrate from top to bottom, this means from $-\\pi/2$ to $\\pi/2$.\n",
    "\n",
    "$$\n",
    "p(\\cos i_\\star | \\cos i_\\mathrm{disk}, \\theta)  = \\frac{1}{2\\pi} \\int_0^{2\\pi} \\delta(g(\\phi)) \\, \\mathrm{d}\\phi = \\frac{1}{\\pi} \\int_{-\\pi/2}^{\\pi/2} \\delta(g(\\phi)) \\, \\mathrm{d}\\phi\n",
    "$$\n",
    "\n",
    "The nice part about this change is that there is only one root in this domain, meaning that given $\\cos i_\\star$, $\\cos i_\\mathrm{disk}$, and $\\theta$, there is exactly one $\\phi$ in this range (the other is on the other half of the circle). Solving $g(\\phi) = 0$ for the root, we have\n",
    "\n",
    "$$\n",
    "\\sin \\phi_0 = \\frac{\\cos i_\\mathrm{disk} \\cos \\theta - \\cos i_\\star}{\\sqrt{1 - \\cos^2 i_\\mathrm{disk}} \\sin \\theta}\n",
    "$$\n",
    "\n",
    "$$\n",
    "\\phi_0 = \\sin^{-1} \\left [  \\frac{\\cos i_\\mathrm{disk} \\cos \\theta - \\cos i_\\star}{\\sqrt{1 - \\cos^2 i_\\mathrm{disk}} \\sin \\theta} \\right ]\n",
    "$$\n",
    "\n",
    "\n",
    "The derivative of $g(\\phi)$ is\n",
    "\n",
    "$$\n",
    "\\frac{\\mathrm{d} g}{\\mathrm{d}\\phi} = \\sqrt{1 - \\cos^2 i_\\mathrm{disk}} \\sin \\theta \\cos \\phi\n",
    "$$\n",
    "\n",
    "Evaluating the derivative at the root, we have\n",
    "\n",
    "$$\n",
    "\\left | \\frac{\\mathrm{d} g}{\\mathrm{d}\\phi} (\\phi_i) \\right | = \\left | \\sqrt{1 - \\cos^2 i_\\mathrm{disk}} \\sin \\theta \\sqrt{1 - \\left ( \\frac{\\cos i_\\mathrm{disk} \\cos \\theta - \\cos i_\\star}{\\sqrt{1 - \\cos^2 i_\\mathrm{disk}} \\sin \\theta} \\right)^2} \\; \\right |\n",
    "$$\n",
    "\n",
    "Using these relationships, we have rewritten\n",
    "\n",
    "$$\n",
    "\\frac{1}{\\pi} \\int_{-\\pi/2}^{\\pi/2} \\delta(g(\\phi)) \\, \\mathrm{d}\\phi = \\frac{1}{\\pi} \\left ( \\left | \\frac{\\mathrm{d} g}{\\mathrm{d}\\phi} (\\phi_i) \\right | \\right )^{-1} \\int_{-\\pi/2}^{\\pi/2} \\delta(\\phi - \\phi_0) \\, \\mathrm{d}\\phi\n",
    "$$\n",
    "\n",
    "$$\n",
    "\\frac{1}{\\pi} \\int_{-\\pi/2}^{\\pi/2} \\delta(g(\\phi)) \\, \\mathrm{d}\\phi = \\frac{1}{\\pi} \\left ( \\left | \\frac{\\mathrm{d} g}{\\mathrm{d}\\phi} (\\phi_i) \\right | \\right )^{-1} \n",
    "$$\n",
    "\n",
    "$$\n",
    "p(\\cos i_\\star | \\cos i_\\mathrm{disk}, \\theta) = \\frac{1}{\\pi} \\left | \\sqrt{1 - \\cos^2 i_\\mathrm{disk}} \\sin \\theta \\sqrt{1 - \\left ( \\frac{\\cos i_\\mathrm{disk} \\cos \\theta - \\cos i_\\star}{\\sqrt{1 - \\cos^2 i_\\mathrm{disk}} \\sin \\theta} \\right)^2} \\; \\right |^{-1} \n",
    "$$\n",
    "\n",
    "$$\n",
    "p(\\cos i_\\star | \\cos i_\\mathrm{disk}, \\theta) = \\frac{1}{\\pi} \\left | \\sin i_\\mathrm{disk} \\sin \\theta \\sqrt{1 - \\left ( \\frac{\\cos i_\\mathrm{disk} \\cos \\theta - \\cos i_\\star}{\\sin i_\\mathrm{disk} \\sin \\theta} \\right)^2} \\; \\right |^{-1} \n",
    "$$\n",
    "\n",
    "\n",
    "This doesn't look particularly pretty, but we can verify that we have this prior correct by generating random samples from $p(\\phi | \\cos i_\\mathrm{disk}, \\theta)$, calculating $\\cos i_\\star$ from them and then plotting the $p(\\cos i_\\star | \\cos i_\\mathrm{disk}, \\theta)$ histogram, i.e., the marginal prior."
   ]
  },
  {
   "cell_type": "markdown",
   "metadata": {},
   "source": [
    "## $u$-substitution\n",
    "\n",
    "This can also be calculated (slightly more easily) with $u$ substitution. We need to calculate the integral\n",
    "\n",
    "$$\n",
    "\\frac{1}{\\pi} \\int_{-\\pi/2}^{\\pi/2} \\delta(g(\\phi))\\, \\mathrm{d}\\phi\n",
    "$$\n",
    "\n",
    "Let $u = \\sin \\theta$, then $\\mathrm{d}u = \\cos \\phi \\, \\mathrm{d} \\phi$. So we have\n",
    "\n",
    "$$\n",
    "\\mathrm{d}\\phi = \\frac{\\mathrm{d}u}{\\cos \\phi} = \\frac{\\mathrm{d}u}{\\sqrt{1 - u^2}}\n",
    "$$\n",
    "\n",
    "$$\n",
    "g(u) = \\cos i_\\star + \\sin i_\\mathrm{disk} \\sin \\theta \\, u - \\cos i_\\mathrm{disk} \\cos \\theta\n",
    "$$\n",
    "\n",
    "$$\n",
    "g^\\prime(u) = \\sin i_\\mathrm{disk} \\sin \\theta\n",
    "$$\n",
    "\n",
    "Solving for the $g(u) = 0$ root,\n",
    "\n",
    "$$\n",
    "u_0 = \\frac{\\cos i_\\mathrm{disk} \\cos \\theta - \\cos i_\\star}{\\sin i_\\mathrm{disk} \\sin \\theta}\n",
    "$$\n",
    "\n",
    "and using the composition rule,\n",
    "\n",
    "$$\n",
    "\\delta(g(u)) = \\frac{\\delta(u - u_0)}{|\\sin i_\\mathrm{disk} \\sin \\theta | }\n",
    "$$\n",
    "\n",
    "the integral becomes\n",
    "\n",
    "$$\n",
    "\\frac{1}{\\pi} \\int_{-\\pi/2}^{\\pi/2} \\delta(g(\\phi))\\, \\mathrm{d}\\phi = \\frac{1}{\\pi} \\frac{1}{|\\sin i_\\mathrm{disk} \\sin \\theta |} \\int_{-1}^1 \\frac{\\delta(u - u_0)}{\\sqrt{1 - u^2}}\\, \\mathrm{d}u\n",
    "$$\n",
    "\n",
    "Now this is a $\\delta$ function integral that is a bit more easier to comprehend. It just picks up the value of the function $1 / \\sqrt{1 - u^2}$ where $u = u_0$, so the final solution is \n",
    "\n",
    "$$\n",
    "\\frac{1}{\\pi} \\frac{1}{|\\sin i_\\mathrm{disk} \\sin \\theta|} \\frac{1}{\\sqrt{1 - u_0^2}}\n",
    "$$\n",
    "\n",
    "which is the same thing as before."
   ]
  },
  {
   "cell_type": "markdown",
   "metadata": {},
   "source": [
    "Now that we've specified this prior, we can write the full posterior with the rest of the terms.\n",
    "\n",
    "$$\n",
    "p_k(\\cos i_\\mathrm{disk}, \\cos i_\\star| \\cos \\hat{i}_\\mathrm{disk}, \\cos \\hat{i}_\\star, \\alpha, \\beta) = {\\cal N}(\\cos \\hat{i}_\\mathrm{disk}, \\cos \\hat{i}_\\star | \\cos i_\\mathrm{disk}, \\cos i_\\star, \\boldsymbol{\\Sigma}) p(\\cos i_\\star | \\cos i_\\mathrm{disk}, \\theta) p(\\cos i_\\mathrm{disk}) p(\\theta |, \\alpha, \\beta)\n",
    "$$\n",
    "\n",
    "This posterior looks a little bit different than before. For this single disk $k$, it looks quite simple, since it only has two parameters, $\\cos i_\\mathrm{disk}$ and $\\cos i_\\star$. Looking more closely, we see that this whole posterior is conditional on the prior for the mutual inclinations, which we've specified with a $\\beta$ distribution $p_\\beta$, parameterized by $\\alpha$ and $\\beta$. With the full sample of disks, we will seek to infer $\\alpha$ and $\\beta$ as well. This is the hierarchical nature of the problem."
   ]
  },
  {
   "cell_type": "markdown",
   "metadata": {},
   "source": [
    "\n",
    "Just trying to experiment implementing the marginal prior. It has the form\n",
    "\n",
    "$$\n",
    "p(\\cos i_\\star | \\cos i_\\mathrm{disk}, \\theta) = \\frac{1}{\\pi} \\left | \\sin i_\\mathrm{disk} \\sin \\theta \\sqrt{1 - \\left ( \\frac{\\cos i_\\mathrm{disk} \\cos \\theta - \\cos i_\\star}{\\sin i_\\mathrm{disk} \\sin \\theta} \\right)^2} \\; \\right |^{-1} \n",
    "$$\n",
    "\n",
    "Since we know that $i_\\mathrm{disk}$ and $\\theta$ will always be in the range $[0, \\pi]$, the absolute value bars are not necessary.\n",
    "\n",
    "\n",
    "$$\n",
    "p(\\cos i_\\star | \\cos i_\\mathrm{disk}, \\theta) = \\frac{1}{\\pi} \\left ( \\sin i_\\mathrm{disk} \\sin \\theta \\sqrt{1 - \\left ( \\frac{\\cos i_\\mathrm{disk} \\cos \\theta - \\cos i_\\star}{\\sin i_\\mathrm{disk} \\sin \\theta} \\right)^2} \\; \\right )^{-1} \n",
    "$$\n",
    "\n",
    "and (dropping constants)\n",
    "\n",
    "$$\n",
    "\\ln p(\\cos i_\\star | \\cos i_\\mathrm{disk}, \\theta) = - \\ln \\sin i_\\mathrm{disk} - \\ln \\sin(\\theta) - \\frac{1}{2} \\ln \\left [ 1 - \\left ( \\frac{\\cos i_\\mathrm{disk} \\cos \\theta - \\cos i_\\star}{\\sin i_\\mathrm{disk} \\sin \\theta} \\right )^2\\right]\n",
    "$$\n",
    "\n",
    "\n",
    "We can calculate the domain of this distribution by realizing \n",
    "\n",
    "$$\n",
    "1 - \\left ( \\frac{\\cos i_\\mathrm{disk} \\cos \\theta - \\cos i_\\star}{\\sin i_\\mathrm{disk} \\sin \\theta} \\right )^2 > 0\n",
    "$$\n",
    "\n",
    "or \n",
    "\n",
    "$$\n",
    "-1 < \\left (\\frac{\\cos i_\\mathrm{disk} \\cos \\theta - \\cos i_\\star}{\\sin i_\\mathrm{disk} \\sin \\theta} \\right ) < 1\n",
    "$$\n",
    "\n",
    "or\n",
    "\n",
    "$$\n",
    "\\cos i_\\mathrm{disk} - \\sin i_\\mathrm{disk} \\sin \\theta < \\cos i_\\star < \\sin i_\\mathrm{disk} \\sin \\theta + \\cos i_\\mathrm{disk} \\cos \\theta\n",
    "$$"
   ]
  },
  {
   "cell_type": "code",
   "execution_count": 1,
   "metadata": {},
   "outputs": [],
   "source": [
    "# code here\n",
    "%matplotlib inline\n",
    "%config InlineBackend.figure_format = \"retina\"\n",
    "\n",
    "from matplotlib import rcParams\n",
    "rcParams[\"savefig.dpi\"] = 100\n",
    "rcParams[\"figure.dpi\"] = 100\n",
    "rcParams[\"font.size\"] = 20\n",
    "import matplotlib.pyplot as plt\n",
    "\n",
    "import numpy as np\n",
    "import theano.tensor as tt\n",
    "import pymc3 as pm\n",
    "\n",
    "deg = np.pi/180.0"
   ]
  },
  {
   "cell_type": "code",
   "execution_count": 29,
   "metadata": {},
   "outputs": [],
   "source": [
    "def get_limits(cos_i_disk, theta):\n",
    "    '''\n",
    "    theta in radians\n",
    "    '''\n",
    "    sin_i_disk = np.sqrt(1 - cos_i_disk**2)\n",
    "\n",
    "    low = cos_i_disk - sin_i_disk * np.sin(theta)\n",
    "    high = sin_i_disk * np.sin(theta) + cos_i_disk * np.cos(theta)\n",
    "    \n",
    "    return low, high"
   ]
  },
  {
   "cell_type": "code",
   "execution_count": 47,
   "metadata": {},
   "outputs": [],
   "source": [
    "# choose a cos i_disk, and theta value \n",
    "cos_i_disk = np.cos(40.0 * deg)\n",
    "theta = 5.0 * deg\n",
    "\n",
    "def lnp(cos_i_star): #, cos_i_disk, theta):\n",
    "    sin_i_disk = tt.sqrt(1 - cos_i_disk**2)\n",
    "\n",
    "    # limits on where function is defined\n",
    "    low = cos_i_disk - sin_i_disk * np.sin(theta)\n",
    "    high = sin_i_disk * np.sin(theta) + cos_i_disk * np.cos(theta)\n",
    "    \n",
    "    # specify the bounds via returning -inf\n",
    "    \n",
    "    return tt.switch(tt.and_(tt.lt(low, cos_i_star), tt.lt(cos_i_star, high)), -tt.log(sin_i_disk) - tt.log(tt.sin(theta)) - \\\n",
    "    0.5 * tt.log(1 - ((cos_i_disk * tt.cos(theta) - cos_i_star)/(sin_i_disk * tt.sin(theta)))**2), -1.0)"
   ]
  },
  {
   "cell_type": "code",
   "execution_count": null,
   "metadata": {},
   "outputs": [],
   "source": [
    "import theano.tensor as T\n",
    "\n",
    "with pymc.Model() as model:\n",
    "    alpha = pymc.Uniform('intercept', -100, 100)\n",
    "    # Create custom densities\n",
    "    beta = pymc.DensityDist('slope', lambda value: -1.5 * T.log(1 + value**2), testval=0)\n",
    "    sigma = pymc.DensityDist('sigma', lambda value: -T.log(T.abs_(value)), testval=1)\n",
    "    # Create likelihood\n",
    "    like = pymc.Normal('y_est', mu=alpha + beta * xdata, sd=sigma, observed=ydata)\n",
    "    \n",
    "    start = pymc.find_MAP()\n",
    "    step = pymc.NUTS(scaling=start) # Instantiate sampler\n",
    "    trace = pymc.sample(10000, step, start=start, progressbar=False) "
   ]
  },
  {
   "cell_type": "code",
   "execution_count": 48,
   "metadata": {},
   "outputs": [
    {
     "name": "stdout",
     "output_type": "stream",
     "text": [
      "cos_i_star __str__ = 0.7660444431189781\n"
     ]
    }
   ],
   "source": [
    "# for now these are just fixed \n",
    "cos_i_disk = np.cos(40.0 * deg)\n",
    "theta = 5.0 * deg\n",
    "\n",
    "# low, high = get_limits(cos_i_disk, theta)\n",
    "\n",
    "with pm.Model() as model:\n",
    "\n",
    "    # Now, we will use cos_i_disk and theta to calculate the prior on cos_i_star\n",
    "#     sin_i_disk = tt.sqrt(1.0 - cos_i_disk**2)\n",
    "\n",
    "    # see https://discourse.pymc.io/t/first-attempt-at-a-hierarchical-model-with-custom-likelihood/1928\n",
    "    # for conditional prior help\n",
    "    # the domain of this dist is between \n",
    "#     def lnp(cos_i_star): \n",
    "#         return -tt.log(sin_i_disk) - tt.log(tt.sin(theta)) - \\\n",
    "#         0.5 * tt.log(1 - ((cos_i_disk * tt.cos(theta) - cos_i_star)/(sin_i_disk * tt.sin(theta)))**2)\n",
    "    \n",
    "    # the disk inclination is probably a good place to start\n",
    "    cos_i_star = pm.DensityDist(\"cos_i_star\", lnp, testval=cos_i_disk)\n",
    "    \n",
    "    p1 = tt.printing.Print('cos_i_star')(cos_i_star)"
   ]
  },
  {
   "cell_type": "code",
   "execution_count": 51,
   "metadata": {},
   "outputs": [
    {
     "name": "stderr",
     "output_type": "stream",
     "text": [
      "Only 3 samples in chain.\n",
      "Auto-assigning NUTS sampler...\n",
      "Initializing NUTS using jitter+adapt_diag...\n",
      "Sequential sampling (1 chains in 1 job)\n",
      "NUTS: [cos_i_star]\n"
     ]
    },
    {
     "ename": "ValueError",
     "evalue": "Mass matrix contains non-finite values on the diagonal. \nThe derivative of RV `cos_i_star`.ravel()[0] is non-finite.",
     "output_type": "error",
     "traceback": [
      "\u001b[0;31m---------------------------------------------------------------------------\u001b[0m",
      "\u001b[0;31mValueError\u001b[0m                                Traceback (most recent call last)",
      "\u001b[0;32m<ipython-input-51-b24e53ef6ac4>\u001b[0m in \u001b[0;36m<module>\u001b[0;34m\u001b[0m\n\u001b[1;32m      1\u001b[0m \u001b[0;32mwith\u001b[0m \u001b[0mmodel\u001b[0m\u001b[0;34m:\u001b[0m\u001b[0;34m\u001b[0m\u001b[0;34m\u001b[0m\u001b[0m\n\u001b[1;32m      2\u001b[0m \u001b[0;31m#     trace = pm.sample(5)\u001b[0m\u001b[0;34m\u001b[0m\u001b[0;34m\u001b[0m\u001b[0;34m\u001b[0m\u001b[0m\n\u001b[0;32m----> 3\u001b[0;31m     \u001b[0mtrace\u001b[0m \u001b[0;34m=\u001b[0m \u001b[0mpm\u001b[0m\u001b[0;34m.\u001b[0m\u001b[0msample\u001b[0m\u001b[0;34m(\u001b[0m\u001b[0;36m3\u001b[0m\u001b[0;34m,\u001b[0m \u001b[0mtune\u001b[0m\u001b[0;34m=\u001b[0m\u001b[0;36m100\u001b[0m\u001b[0;34m,\u001b[0m \u001b[0mchains\u001b[0m\u001b[0;34m=\u001b[0m\u001b[0;36m1\u001b[0m\u001b[0;34m,\u001b[0m \u001b[0mprogressbar\u001b[0m\u001b[0;34m=\u001b[0m\u001b[0;32mFalse\u001b[0m\u001b[0;34m)\u001b[0m\u001b[0;34m\u001b[0m\u001b[0;34m\u001b[0m\u001b[0m\n\u001b[0m",
      "\u001b[0;32m~/.build/miniconda3/lib/python3.7/site-packages/pymc3/sampling.py\u001b[0m in \u001b[0;36msample\u001b[0;34m(draws, step, init, n_init, start, trace, chain_idx, chains, cores, tune, nuts_kwargs, step_kwargs, progressbar, model, random_seed, live_plot, discard_tuned_samples, live_plot_kwargs, compute_convergence_checks, use_mmap, **kwargs)\u001b[0m\n\u001b[1;32m    467\u001b[0m                 \u001b[0m_log\u001b[0m\u001b[0;34m.\u001b[0m\u001b[0minfo\u001b[0m\u001b[0;34m(\u001b[0m\u001b[0;34m'Sequential sampling ({} chains in 1 job)'\u001b[0m\u001b[0;34m.\u001b[0m\u001b[0mformat\u001b[0m\u001b[0;34m(\u001b[0m\u001b[0mchains\u001b[0m\u001b[0;34m)\u001b[0m\u001b[0;34m)\u001b[0m\u001b[0;34m\u001b[0m\u001b[0;34m\u001b[0m\u001b[0m\n\u001b[1;32m    468\u001b[0m                 \u001b[0m_print_step_hierarchy\u001b[0m\u001b[0;34m(\u001b[0m\u001b[0mstep\u001b[0m\u001b[0;34m)\u001b[0m\u001b[0;34m\u001b[0m\u001b[0;34m\u001b[0m\u001b[0m\n\u001b[0;32m--> 469\u001b[0;31m                 \u001b[0mtrace\u001b[0m \u001b[0;34m=\u001b[0m \u001b[0m_sample_many\u001b[0m\u001b[0;34m(\u001b[0m\u001b[0;34m**\u001b[0m\u001b[0msample_args\u001b[0m\u001b[0;34m)\u001b[0m\u001b[0;34m\u001b[0m\u001b[0;34m\u001b[0m\u001b[0m\n\u001b[0m\u001b[1;32m    470\u001b[0m \u001b[0;34m\u001b[0m\u001b[0m\n\u001b[1;32m    471\u001b[0m         \u001b[0mdiscard\u001b[0m \u001b[0;34m=\u001b[0m \u001b[0mtune\u001b[0m \u001b[0;32mif\u001b[0m \u001b[0mdiscard_tuned_samples\u001b[0m \u001b[0;32melse\u001b[0m \u001b[0;36m0\u001b[0m\u001b[0;34m\u001b[0m\u001b[0;34m\u001b[0m\u001b[0m\n",
      "\u001b[0;32m~/.build/miniconda3/lib/python3.7/site-packages/pymc3/sampling.py\u001b[0m in \u001b[0;36m_sample_many\u001b[0;34m(draws, chain, chains, start, random_seed, step, **kwargs)\u001b[0m\n\u001b[1;32m    513\u001b[0m     \u001b[0;32mfor\u001b[0m \u001b[0mi\u001b[0m \u001b[0;32min\u001b[0m \u001b[0mrange\u001b[0m\u001b[0;34m(\u001b[0m\u001b[0mchains\u001b[0m\u001b[0;34m)\u001b[0m\u001b[0;34m:\u001b[0m\u001b[0;34m\u001b[0m\u001b[0;34m\u001b[0m\u001b[0m\n\u001b[1;32m    514\u001b[0m         trace = _sample(draws=draws, chain=chain + i, start=start[i],\n\u001b[0;32m--> 515\u001b[0;31m                         step=step, random_seed=random_seed[i], **kwargs)\n\u001b[0m\u001b[1;32m    516\u001b[0m         \u001b[0;32mif\u001b[0m \u001b[0mtrace\u001b[0m \u001b[0;32mis\u001b[0m \u001b[0;32mNone\u001b[0m\u001b[0;34m:\u001b[0m\u001b[0;34m\u001b[0m\u001b[0;34m\u001b[0m\u001b[0m\n\u001b[1;32m    517\u001b[0m             \u001b[0;32mif\u001b[0m \u001b[0mlen\u001b[0m\u001b[0;34m(\u001b[0m\u001b[0mtraces\u001b[0m\u001b[0;34m)\u001b[0m \u001b[0;34m==\u001b[0m \u001b[0;36m0\u001b[0m\u001b[0;34m:\u001b[0m\u001b[0;34m\u001b[0m\u001b[0;34m\u001b[0m\u001b[0m\n",
      "\u001b[0;32m~/.build/miniconda3/lib/python3.7/site-packages/pymc3/sampling.py\u001b[0m in \u001b[0;36m_sample\u001b[0;34m(chain, progressbar, random_seed, start, draws, step, trace, tune, model, live_plot, live_plot_kwargs, **kwargs)\u001b[0m\n\u001b[1;32m    557\u001b[0m     \u001b[0;32mtry\u001b[0m\u001b[0;34m:\u001b[0m\u001b[0;34m\u001b[0m\u001b[0;34m\u001b[0m\u001b[0m\n\u001b[1;32m    558\u001b[0m         \u001b[0mstrace\u001b[0m \u001b[0;34m=\u001b[0m \u001b[0;32mNone\u001b[0m\u001b[0;34m\u001b[0m\u001b[0;34m\u001b[0m\u001b[0m\n\u001b[0;32m--> 559\u001b[0;31m         \u001b[0;32mfor\u001b[0m \u001b[0mit\u001b[0m\u001b[0;34m,\u001b[0m \u001b[0mstrace\u001b[0m \u001b[0;32min\u001b[0m \u001b[0menumerate\u001b[0m\u001b[0;34m(\u001b[0m\u001b[0msampling\u001b[0m\u001b[0;34m)\u001b[0m\u001b[0;34m:\u001b[0m\u001b[0;34m\u001b[0m\u001b[0;34m\u001b[0m\u001b[0m\n\u001b[0m\u001b[1;32m    560\u001b[0m             \u001b[0;32mif\u001b[0m \u001b[0mlive_plot\u001b[0m\u001b[0;34m:\u001b[0m\u001b[0;34m\u001b[0m\u001b[0;34m\u001b[0m\u001b[0m\n\u001b[1;32m    561\u001b[0m                 \u001b[0;32mif\u001b[0m \u001b[0mlive_plot_kwargs\u001b[0m \u001b[0;32mis\u001b[0m \u001b[0;32mNone\u001b[0m\u001b[0;34m:\u001b[0m\u001b[0;34m\u001b[0m\u001b[0;34m\u001b[0m\u001b[0m\n",
      "\u001b[0;32m~/.build/miniconda3/lib/python3.7/site-packages/pymc3/sampling.py\u001b[0m in \u001b[0;36m_iter_sample\u001b[0;34m(draws, step, start, trace, chain, tune, model, random_seed)\u001b[0m\n\u001b[1;32m    653\u001b[0m                 \u001b[0mstep\u001b[0m \u001b[0;34m=\u001b[0m \u001b[0mstop_tuning\u001b[0m\u001b[0;34m(\u001b[0m\u001b[0mstep\u001b[0m\u001b[0;34m)\u001b[0m\u001b[0;34m\u001b[0m\u001b[0;34m\u001b[0m\u001b[0m\n\u001b[1;32m    654\u001b[0m             \u001b[0;32mif\u001b[0m \u001b[0mstep\u001b[0m\u001b[0;34m.\u001b[0m\u001b[0mgenerates_stats\u001b[0m\u001b[0;34m:\u001b[0m\u001b[0;34m\u001b[0m\u001b[0;34m\u001b[0m\u001b[0m\n\u001b[0;32m--> 655\u001b[0;31m                 \u001b[0mpoint\u001b[0m\u001b[0;34m,\u001b[0m \u001b[0mstates\u001b[0m \u001b[0;34m=\u001b[0m \u001b[0mstep\u001b[0m\u001b[0;34m.\u001b[0m\u001b[0mstep\u001b[0m\u001b[0;34m(\u001b[0m\u001b[0mpoint\u001b[0m\u001b[0;34m)\u001b[0m\u001b[0;34m\u001b[0m\u001b[0;34m\u001b[0m\u001b[0m\n\u001b[0m\u001b[1;32m    656\u001b[0m                 \u001b[0;32mif\u001b[0m \u001b[0mstrace\u001b[0m\u001b[0;34m.\u001b[0m\u001b[0msupports_sampler_stats\u001b[0m\u001b[0;34m:\u001b[0m\u001b[0;34m\u001b[0m\u001b[0;34m\u001b[0m\u001b[0m\n\u001b[1;32m    657\u001b[0m                     \u001b[0mstrace\u001b[0m\u001b[0;34m.\u001b[0m\u001b[0mrecord\u001b[0m\u001b[0;34m(\u001b[0m\u001b[0mpoint\u001b[0m\u001b[0;34m,\u001b[0m \u001b[0mstates\u001b[0m\u001b[0;34m)\u001b[0m\u001b[0;34m\u001b[0m\u001b[0;34m\u001b[0m\u001b[0m\n",
      "\u001b[0;32m~/.build/miniconda3/lib/python3.7/site-packages/pymc3/step_methods/arraystep.py\u001b[0m in \u001b[0;36mstep\u001b[0;34m(self, point)\u001b[0m\n\u001b[1;32m    245\u001b[0m \u001b[0;34m\u001b[0m\u001b[0m\n\u001b[1;32m    246\u001b[0m         \u001b[0;32mif\u001b[0m \u001b[0mself\u001b[0m\u001b[0;34m.\u001b[0m\u001b[0mgenerates_stats\u001b[0m\u001b[0;34m:\u001b[0m\u001b[0;34m\u001b[0m\u001b[0;34m\u001b[0m\u001b[0m\n\u001b[0;32m--> 247\u001b[0;31m             \u001b[0mapoint\u001b[0m\u001b[0;34m,\u001b[0m \u001b[0mstats\u001b[0m \u001b[0;34m=\u001b[0m \u001b[0mself\u001b[0m\u001b[0;34m.\u001b[0m\u001b[0mastep\u001b[0m\u001b[0;34m(\u001b[0m\u001b[0marray\u001b[0m\u001b[0;34m)\u001b[0m\u001b[0;34m\u001b[0m\u001b[0;34m\u001b[0m\u001b[0m\n\u001b[0m\u001b[1;32m    248\u001b[0m             \u001b[0mpoint\u001b[0m \u001b[0;34m=\u001b[0m \u001b[0mself\u001b[0m\u001b[0;34m.\u001b[0m\u001b[0m_logp_dlogp_func\u001b[0m\u001b[0;34m.\u001b[0m\u001b[0marray_to_full_dict\u001b[0m\u001b[0;34m(\u001b[0m\u001b[0mapoint\u001b[0m\u001b[0;34m)\u001b[0m\u001b[0;34m\u001b[0m\u001b[0;34m\u001b[0m\u001b[0m\n\u001b[1;32m    249\u001b[0m             \u001b[0;32mreturn\u001b[0m \u001b[0mpoint\u001b[0m\u001b[0;34m,\u001b[0m \u001b[0mstats\u001b[0m\u001b[0;34m\u001b[0m\u001b[0;34m\u001b[0m\u001b[0m\n",
      "\u001b[0;32m~/.build/miniconda3/lib/python3.7/site-packages/pymc3/step_methods/hmc/base_hmc.py\u001b[0m in \u001b[0;36mastep\u001b[0;34m(self, q0)\u001b[0m\n\u001b[1;32m    113\u001b[0m \u001b[0;34m\u001b[0m\u001b[0m\n\u001b[1;32m    114\u001b[0m         \u001b[0;32mif\u001b[0m \u001b[0;32mnot\u001b[0m \u001b[0mnp\u001b[0m\u001b[0;34m.\u001b[0m\u001b[0misfinite\u001b[0m\u001b[0;34m(\u001b[0m\u001b[0mstart\u001b[0m\u001b[0;34m.\u001b[0m\u001b[0menergy\u001b[0m\u001b[0;34m)\u001b[0m\u001b[0;34m:\u001b[0m\u001b[0;34m\u001b[0m\u001b[0;34m\u001b[0m\u001b[0m\n\u001b[0;32m--> 115\u001b[0;31m             \u001b[0mself\u001b[0m\u001b[0;34m.\u001b[0m\u001b[0mpotential\u001b[0m\u001b[0;34m.\u001b[0m\u001b[0mraise_ok\u001b[0m\u001b[0;34m(\u001b[0m\u001b[0mself\u001b[0m\u001b[0;34m.\u001b[0m\u001b[0m_logp_dlogp_func\u001b[0m\u001b[0;34m.\u001b[0m\u001b[0m_ordering\u001b[0m\u001b[0;34m.\u001b[0m\u001b[0mvmap\u001b[0m\u001b[0;34m)\u001b[0m\u001b[0;34m\u001b[0m\u001b[0;34m\u001b[0m\u001b[0m\n\u001b[0m\u001b[1;32m    116\u001b[0m             raise ValueError('Bad initial energy: %s. The model '\n\u001b[1;32m    117\u001b[0m                              'might be misspecified.' % start.energy)\n",
      "\u001b[0;32m~/.build/miniconda3/lib/python3.7/site-packages/pymc3/step_methods/hmc/quadpotential.py\u001b[0m in \u001b[0;36mraise_ok\u001b[0;34m(self, vmap)\u001b[0m\n\u001b[1;32m    213\u001b[0m                 errmsg.append('The derivative of RV `{}`.ravel()[{}]'\n\u001b[1;32m    214\u001b[0m                               ' is non-finite.'.format(*name_slc[ii]))\n\u001b[0;32m--> 215\u001b[0;31m             \u001b[0;32mraise\u001b[0m \u001b[0mValueError\u001b[0m\u001b[0;34m(\u001b[0m\u001b[0;34m'\\n'\u001b[0m\u001b[0;34m.\u001b[0m\u001b[0mjoin\u001b[0m\u001b[0;34m(\u001b[0m\u001b[0merrmsg\u001b[0m\u001b[0;34m)\u001b[0m\u001b[0;34m)\u001b[0m\u001b[0;34m\u001b[0m\u001b[0;34m\u001b[0m\u001b[0m\n\u001b[0m\u001b[1;32m    216\u001b[0m \u001b[0;34m\u001b[0m\u001b[0m\n\u001b[1;32m    217\u001b[0m \u001b[0;34m\u001b[0m\u001b[0m\n",
      "\u001b[0;31mValueError\u001b[0m: Mass matrix contains non-finite values on the diagonal. \nThe derivative of RV `cos_i_star`.ravel()[0] is non-finite."
     ]
    }
   ],
   "source": [
    "with model:\n",
    "#     trace = pm.sample(5)\n",
    "    trace = pm.sample(3, tune=100, chains=1, progressbar=False) "
   ]
  },
  {
   "cell_type": "code",
   "execution_count": 27,
   "metadata": {},
   "outputs": [
    {
     "name": "stdout",
     "output_type": "stream",
     "text": [
      "0.710021811567756 0.8191520442889919\n"
     ]
    },
    {
     "data": {
      "image/png": "[encoded data removed]",
      "text/plain": [
       "<Figure size 432x288 with 1 Axes>"
      ]
     },
     "metadata": {
      "image/png": {
       "height": 263,
       "width": 370
      },
      "needs_background": "light"
     },
     "output_type": "display_data"
    }
   ],
   "source": [
    "def p_marg(cos_i_star, cos_i_disk, theta):\n",
    "    '''\n",
    "    Assumes radians for angles.\n",
    "    '''\n",
    "    \n",
    "    sin_i_disk = np.sqrt(1 - cos_i_disk**2)\n",
    "    \n",
    "    # the limits of this function\n",
    "    low = cos_i_disk - sin_i_disk * np.sin(theta)\n",
    "    high = sin_i_disk * np.sin(theta) + cos_i_disk * np.cos(theta)\n",
    "    \n",
    "    print(low, high)\n",
    "    \n",
    "    return 1 / (np.pi * np.sqrt(1 - cos_i_disk**2) * np.sin(theta) * \\\n",
    "                np.sqrt(1 - ((cos_i_disk * np.cos(theta) - cos_i_star) / \\\n",
    "               (np.sqrt(1 - cos_i_disk**2) * np.sin(theta)))**2)) \n",
    "\n",
    "# choose a cos i_disk, and theta value \n",
    "cos_i_disk = np.cos(40.0 * deg)\n",
    "theta = 5.0 * deg\n",
    "\n",
    "phis = np.random.uniform(0, 2 * np.pi, size=100000)\n",
    "\n",
    "cos_i_stars = -np.sqrt(1 - cos_i_disk**2) * np.sin(theta) * np.sin(phis) + cos_i_disk * np.cos(theta)\n",
    "\n",
    "res = plt.hist(cos_i_stars, bins=40, density=True)\n",
    "heights, bins, patches = res\n",
    "plt.plot(bins[1:-1], p_marg(bins[1:-1], cos_i_disk, theta)) # it will blow up at the edges\n",
    "plt.axvline(cos_i_disk, color=\"0.3\")\n",
    "plt.xlabel(r\"$\\cos i_\\star$\");\n"
   ]
  },
  {
   "cell_type": "markdown",
   "metadata": {},
   "source": [
    "Notes on this are here: https://docs.pymc.io/Probability_Distributions.html"
   ]
  },
  {
   "cell_type": "code",
   "execution_count": null,
   "metadata": {},
   "outputs": [],
   "source": [
    "def logp(failure, value):\n",
    "    return (failure * log(λ) - λ * value).sum()\n",
    "\n",
    "exp_surv = pm.DensityDist('exp_surv', logp, observed={'failure':failure, 'value':t})"
   ]
  }
 ],
 "metadata": {
  "kernelspec": {
   "display_name": "Python 3",
   "language": "python",
   "name": "python3"
  },
  "language_info": {
   "codemirror_mode": {
    "name": "ipython",
    "version": 3
   },
   "file_extension": ".py",
   "mimetype": "text/x-python",
   "name": "python",
   "nbconvert_exporter": "python",
   "pygments_lexer": "ipython3",
   "version": "3.7.1"
  }
 },
 "nbformat": 4,
 "nbformat_minor": 2
}
