{
 "cells": [
  {
   "cell_type": "code",
   "execution_count": 1,
   "metadata": {},
   "outputs": [],
   "source": [
    "import numpy as np \n",
    "from astropy.io import ascii"
   ]
  },
  {
   "cell_type": "code",
   "execution_count": 2,
   "metadata": {},
   "outputs": [],
   "source": [
    "data = ascii.read(\"low_sample.ecsv\")\n",
    "# data = ascii.read(\"iso_sample.ecsv\")"
   ]
  },
  {
   "cell_type": "code",
   "execution_count": 3,
   "metadata": {},
   "outputs": [
    {
     "data": {
      "text/html": [
       "<i>Table length=10</i>\n",
       "<table id=\"table140119706141808\" class=\"table-striped table-bordered table-condensed\">\n",
       "<thead><tr><th>cos_i_disk</th><th>cos_i_disk_err</th><th>Omega_disk</th><th>cos_i_star</th><th>cos_i_star_err</th><th>Omega_star</th><th>theta</th><th>phi</th></tr></thead>\n",
       "<thead><tr><th>float64</th><th>float64</th><th>float64</th><th>float64</th><th>float64</th><th>float64</th><th>float64</th><th>float64</th></tr></thead>\n",
       "<tr><td>-0.21009996313798826</td><td>0.01706373345181691</td><td>41.41964390032042</td><td>-0.12740403304830247</td><td>0.017311063933745034</td><td>37.61245470671466</td><td>6.098747175813493</td><td>308.30772339268697</td></tr>\n",
       "<tr><td>0.604094237257333</td><td>0.013908753763076816</td><td>219.2639541406133</td><td>0.5924899705205053</td><td>0.014059985456562726</td><td>-134.71104005562697</td><td>4.897532240250373</td><td>172.05954981517917</td></tr>\n",
       "<tr><td>-0.4911577482802412</td><td>0.015203050749914697</td><td>48.02074710695578</td><td>-0.4287980890507204</td><td>0.01576731063343925</td><td>52.027159749387664</td><td>5.370692642235113</td><td>227.59600765857894</td></tr>\n",
       "<tr><td>-0.8862301266976966</td><td>0.00808515487341144</td><td>86.61226318752556</td><td>-0.9207700842239779</td><td>0.006808628780047915</td><td>87.02760453782457</td><td>4.639005537086487</td><td>92.00375460318027</td></tr>\n",
       "<tr><td>0.7332972817984005</td><td>0.011866635880890488</td><td>117.77006009201033</td><td>0.6641149116034651</td><td>0.01304861404276043</td><td>-241.31120730078084</td><td>5.5876604039833895</td><td>97.07199741551462</td></tr>\n",
       "<tr><td>-0.5579420082312575</td><td>0.014484137355945802</td><td>309.28949674149516</td><td>-0.604617214287832</td><td>0.013901829877478974</td><td>-41.48150178761055</td><td>8.191463050136807</td><td>153.71201033305138</td></tr>\n",
       "<tr><td>-0.1900211039054805</td><td>0.017135293633964672</td><td>239.79247671528924</td><td>-0.24342090579179324</td><td>0.016928310582995598</td><td>-126.2170493790924</td><td>6.650621905799606</td><td>28.743010652470318</td></tr>\n",
       "<tr><td>-0.36780705796358254</td><td>0.016229853859155225</td><td>194.81839642202536</td><td>-0.23574467454576584</td><td>0.01696137195695544</td><td>-166.9177727066608</td><td>8.115070281965613</td><td>282.03907135175325</td></tr>\n",
       "<tr><td>-0.8466746000071055</td><td>0.009287089024341458</td><td>10.444976792769745</td><td>-0.7951927654301728</td><td>0.010582921118066725</td><td>-1.31135635402228</td><td>8.447699525264202</td><td>327.24352101064056</td></tr>\n",
       "<tr><td>0.6864493884594092</td><td>0.012691643068436025</td><td>264.1493866609018</td><td>0.741420644436857</td><td>0.011711867119292955</td><td>-99.54494015604524</td><td>5.1905037152555735</td><td>298.5505457887533</td></tr>\n",
       "</table>"
      ],
      "text/plain": [
       "<Table length=10>\n",
       "     cos_i_disk         cos_i_disk_err    ...        phi        \n",
       "      float64              float64        ...      float64      \n",
       "-------------------- -------------------- ... ------------------\n",
       "-0.21009996313798826  0.01706373345181691 ... 308.30772339268697\n",
       "   0.604094237257333 0.013908753763076816 ... 172.05954981517917\n",
       " -0.4911577482802412 0.015203050749914697 ... 227.59600765857894\n",
       " -0.8862301266976966  0.00808515487341144 ...  92.00375460318027\n",
       "  0.7332972817984005 0.011866635880890488 ...  97.07199741551462\n",
       " -0.5579420082312575 0.014484137355945802 ... 153.71201033305138\n",
       " -0.1900211039054805 0.017135293633964672 ... 28.743010652470318\n",
       "-0.36780705796358254 0.016229853859155225 ... 282.03907135175325\n",
       " -0.8466746000071055 0.009287089024341458 ... 327.24352101064056\n",
       "  0.6864493884594092 0.012691643068436025 ...  298.5505457887533"
      ]
     },
     "execution_count": 3,
     "metadata": {},
     "output_type": "execute_result"
    }
   ],
   "source": [
    "data"
   ]
  },
  {
   "cell_type": "code",
   "execution_count": 4,
   "metadata": {},
   "outputs": [],
   "source": [
    "i_disk = np.arccos(data[\"cos_i_disk\"]) * 180./np.pi\n",
    "i_star = np.arccos(data[\"cos_i_star\"]) * 180./np.pi"
   ]
  },
  {
   "cell_type": "code",
   "execution_count": 5,
   "metadata": {},
   "outputs": [
    {
     "name": "stdout",
     "output_type": "stream",
     "text": [
      "0 102.1 97.3\n",
      "1 52.8 53.7\n",
      "2 119.4 115.4\n",
      "3 152.4 157.0\n",
      "4 42.8 48.4\n",
      "5 123.9 127.2\n",
      "6 101.0 104.1\n",
      "7 111.6 103.6\n",
      "8 147.9 142.7\n",
      "9 46.7 42.1\n"
     ]
    }
   ],
   "source": [
    "for i in range(len(data)):\n",
    "    print(i, \"{:.1f} {:.1f}\".format(i_disk[i], i_star[i]))"
   ]
  },
  {
   "cell_type": "code",
   "execution_count": null,
   "metadata": {},
   "outputs": [],
   "source": []
  }
 ],
 "metadata": {
  "kernelspec": {
   "display_name": "Python 3",
   "language": "python",
   "name": "python3"
  },
  "language_info": {
   "codemirror_mode": {
    "name": "ipython",
    "version": 3
   },
   "file_extension": ".py",
   "mimetype": "text/x-python",
   "name": "python",
   "nbconvert_exporter": "python",
   "pygments_lexer": "ipython3",
   "version": "3.7.1"
  }
 },
 "nbformat": 4,
 "nbformat_minor": 2
}
