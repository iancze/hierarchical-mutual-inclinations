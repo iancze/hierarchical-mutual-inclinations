{
 "cells": [
  {
   "cell_type": "markdown",
   "metadata": {},
   "source": [
    "We can remove one variable from the problem if we just use $\\Delta \\Omega$. However, just because we had uniform priors on $\\Omega_\\mathrm{disk}$ and $\\Omega_\\star$ doesn't mean we have a uniform prior on $\\Delta \\Omega$. In fact, we have a  \"triangle\" prior on $\\Delta \\Omega$, which is the result of the convolution of two top-hat functions on $\\Omega_\\mathrm{disk}$ and $\\Omega_\\star$. We can see this with a simple example"
   ]
  },
  {
   "cell_type": "code",
   "execution_count": null,
   "metadata": {},
   "outputs": [],
   "source": [
    "# generate random Omegas\n",
    "Omega_disk = np.random.uniform(0, 2*np.pi, size=10000)\n",
    "Omega_star = np.random.uniform(0, 2*np.pi, size=10000)\n",
    "Delta_Omega = Omega_disk - Omega_star\n",
    "cosDelta = np.cos(Delta_Omega)\n",
    "\n",
    "fig, ax = plt.subplots(nrows=4, figsize=(4,8))\n",
    "\n",
    "bins=30\n",
    "ax[0].hist(Omega_disk/deg, bins=bins, density=True);\n",
    "ax[1].hist(Omega_star/deg, bins=bins, density=True);\n",
    "ax[2].hist(Delta_Omega/deg, bins=bins, density=True);\n",
    "ax[3].hist(cosDelta, bins=bins, density=True);\n",
    "for a,ylabel in zip(ax,[r\"$\\Omega_\\mathrm{disk}$\", r\"$\\Omega_\\star$\", r\"$\\Delta \\Omega$\", r\"$\\cos \\Delta \\Omega$\"]):\n",
    "    a.set_ylabel(ylabel)\n",
    "\n",
    "for a in ax[:3]:\n",
    "    a.set_xlabel(\"degrees\")\n",
    "\n",
    "fig.subplots_adjust(hspace=0.5)"
   ]
  },
  {
   "cell_type": "markdown",
   "metadata": {},
   "source": [
    "The form of the triangle prior is just the third panel of the plot, \n",
    "\n",
    "$$\n",
    "p(\\Delta \\Omega) =  \\frac{1}{2 \\pi} \\left (1 -  \\frac{|\\Delta \\Omega|}{2 \\pi} \\right )\n",
    "$$\n",
    "\n",
    "If we wanted to, we could even bring this prior all the way to a prior on $\\cos(\\Omega_\\mathrm{disk} - \\Omega_\\star)$ via another transformation of variables, since that's what appears in the mutual inclination formula. \n"
   ]
  },
  {
   "cell_type": "code",
   "execution_count": null,
   "metadata": {},
   "outputs": [],
   "source": []
  }
 ],
 "metadata": {
  "kernelspec": {
   "display_name": "Python 3",
   "language": "python",
   "name": "python3"
  },
  "language_info": {
   "codemirror_mode": {
    "name": "ipython",
    "version": 3
   },
   "file_extension": ".py",
   "mimetype": "text/x-python",
   "name": "python",
   "nbconvert_exporter": "python",
   "pygments_lexer": "ipython3",
   "version": "3.7.1"
  }
 },
 "nbformat": 4,
 "nbformat_minor": 2
}
